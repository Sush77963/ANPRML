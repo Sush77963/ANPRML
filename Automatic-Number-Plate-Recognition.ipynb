{
  "cells": [
    {
      "cell_type": "code",
      "execution_count": null,
      "metadata": {},
      "outputs": [],
      "source": [
        "%cd \"c:/Users/SUSHANT YADAV/OneDrive/Desktop/n/ANPRML/Automatic-Number-Plate-Recognition\""
      ]
    },
    {
      "cell_type": "code",
      "execution_count": null,
      "metadata": {
        "colab": {
          "base_uri": "https://localhost:8080/"
        },
        "id": "YI3lrkLBcV-o",
        "outputId": "fdf0951d-fa0c-4d31-ab46-ce8eeb77805d"
      },
      "outputs": [
        {
          "name": "stdout",
          "output_type": "stream",
          "text": [
            "/content/Licence-Plate-Detection-and-Recognition-using-YOLO-V8-EasyOCR\n"
          ]
        }
      ],
      "source": [
        "! pip install -r requirements.txt"
      ]
    }
  ],
  "metadata": {
    "accelerator": "GPU",
    "colab": {
      "gpuType": "T4",
      "provenance": []
    },
    "kernelspec": {
      "display_name": "Python 3",
      "name": "python3"
    },
    "language_info": {
      "name": "python"
    }
  },
  "nbformat": 4,
  "nbformat_minor": 0
}
